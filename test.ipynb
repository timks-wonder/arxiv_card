{
 "cells": [
  {
   "cell_type": "code",
   "execution_count": 18,
   "metadata": {},
   "outputs": [
    {
     "name": "stdout",
     "output_type": "stream",
     "text": [
      "(192,)\n"
     ]
    }
   ],
   "source": [
    "import pandas as pd\n",
    "import numpy as np\n",
    "\n",
    "csv = pd.read_csv('user_data/users.csv')\n",
    "\n",
    "# 转换字符串形式的embedding为numpy数组\n",
    "csv['user_embedding'] = csv['user_embedding'].apply(\n",
    "        lambda x: np.frombuffer(eval(x)) if pd.notnull(x) else None\n",
    "    )\n",
    "csv['interes_embedding'] = csv['interes_embedding'].apply(\n",
    "        lambda x: np.frombuffer(eval(x)) if pd.notnull(x) else None\n",
    "    )\n",
    "\n",
    "# csv.info()\n",
    "print(csv['interes_embedding'][0].shape)"
   ]
  },
  {
   "cell_type": "code",
   "execution_count": 16,
   "metadata": {},
   "outputs": [
    {
     "name": "stdout",
     "output_type": "stream",
     "text": [
      "数据维度: (384,)\n"
     ]
    }
   ],
   "source": [
    "import numpy as np\n",
    "\n",
    "# 加载.npy文件\n",
    "data = np.load('user_data/ori_rank_embedding.npy')\n",
    "\n",
    "# 查看数据的维度\n",
    "print(\"数据维度:\", data.shape)\n"
   ]
  },
  {
   "cell_type": "code",
   "execution_count": null,
   "metadata": {},
   "outputs": [],
   "source": []
  }
 ],
 "metadata": {
  "kernelspec": {
   "display_name": "proj2",
   "language": "python",
   "name": "python3"
  },
  "language_info": {
   "codemirror_mode": {
    "name": "ipython",
    "version": 3
   },
   "file_extension": ".py",
   "mimetype": "text/x-python",
   "name": "python",
   "nbconvert_exporter": "python",
   "pygments_lexer": "ipython3",
   "version": "3.10.16"
  }
 },
 "nbformat": 4,
 "nbformat_minor": 2
}
